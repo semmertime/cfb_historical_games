{
 "cells": [
  {
   "cell_type": "code",
   "execution_count": 1,
   "id": "a2f7a8f2-4dc8-458c-8699-9d110e441557",
   "metadata": {},
   "outputs": [
    {
     "name": "stdout",
     "output_type": "stream",
     "text": [
      "                start_date  season   home_team   away_team  home_points  \\\n",
      "58790           1993-10-16    1993  Penn State    Michigan         13.0   \n",
      "59439           1994-10-15    1994    Michigan  Penn State         24.0   \n",
      "60315           1995-11-18    1995  Penn State    Michigan         27.0   \n",
      "60951           1996-11-16    1996    Michigan  Penn State         17.0   \n",
      "61553           1997-11-08    1997  Penn State    Michigan          8.0   \n",
      "62205           1998-11-07    1998    Michigan  Penn State         27.0   \n",
      "62944           1999-11-13    1999  Penn State    Michigan         27.0   \n",
      "63633  2000-11-11 00:00:00    2000    Michigan  Penn State         33.0   \n",
      "64135  2001-10-06 19:30:00    2001  Penn State    Michigan          0.0   \n",
      "64893  2002-10-12 19:30:00    2002    Michigan  Penn State         27.0   \n",
      "68548  2005-10-15 19:30:00    2005    Michigan  Penn State         27.0   \n",
      "69956  2006-10-15 00:00:00    2006  Penn State    Michigan         10.0   \n",
      "71047  2007-09-22 19:30:00    2007    Michigan  Penn State         14.0   \n",
      "72924  2008-10-18 20:30:00    2008  Penn State    Michigan         46.0   \n",
      "74419  2009-10-24 19:30:00    2009    Michigan  Penn State         10.0   \n",
      "75999  2010-10-31 00:00:00    2010  Penn State    Michigan         41.0   \n",
      "80122  2013-10-12 21:00:00    2013  Penn State    Michigan         43.0   \n",
      "81248  2014-10-11 23:00:00    2014    Michigan  Penn State         18.0   \n",
      "82991  2015-11-21 17:00:00    2015  Penn State    Michigan         16.0   \n",
      "84792  2016-09-24 19:30:00    2016    Michigan  Penn State         49.0   \n",
      "85962  2017-10-21 23:30:00    2017  Penn State    Michigan         42.0   \n",
      "87430  2018-11-03 19:45:00    2018    Michigan  Penn State         42.0   \n",
      "88967  2019-10-19 23:30:00    2019  Penn State    Michigan         28.0   \n",
      "90740  2020-11-28 17:00:00    2020    Michigan  Penn State         17.0   \n",
      "91479  2021-11-13 17:00:00    2021  Penn State    Michigan         17.0   \n",
      "94275  2022-10-15 16:00:00    2022    Michigan  Penn State         41.0   \n",
      "97878  2023-11-11 17:00:00    2023  Penn State    Michigan         15.0   \n",
      "\n",
      "       away_points  \n",
      "58790         21.0  \n",
      "59439         31.0  \n",
      "60315         17.0  \n",
      "60951         29.0  \n",
      "61553         34.0  \n",
      "62205          0.0  \n",
      "62944         31.0  \n",
      "63633         11.0  \n",
      "64135         20.0  \n",
      "64893         24.0  \n",
      "68548         25.0  \n",
      "69956         17.0  \n",
      "71047          9.0  \n",
      "72924         17.0  \n",
      "74419         35.0  \n",
      "75999         31.0  \n",
      "80122         40.0  \n",
      "81248         13.0  \n",
      "82991         28.0  \n",
      "84792         10.0  \n",
      "85962         13.0  \n",
      "87430          7.0  \n",
      "88967         21.0  \n",
      "90740         27.0  \n",
      "91479         21.0  \n",
      "94275         17.0  \n",
      "97878         24.0  \n"
     ]
    },
    {
     "name": "stderr",
     "output_type": "stream",
     "text": [
      "C:\\Users\\wws5213\\AppData\\Local\\Temp\\ipykernel_12292\\2368051568.py:4: DtypeWarning: Columns (5,7,10) have mixed types. Specify dtype option on import or set low_memory=False.\n",
      "  games = pd.read_csv('games.csv')\n"
     ]
    }
   ],
   "source": [
    "import pandas as pd\n",
    "\n",
    "teams = pd.read_csv('teams.csv')\n",
    "games = pd.read_csv('games.csv')\n",
    "\n",
    "# Try filtering for PSU vs Michigan\n",
    "teamA = 'Penn State'\n",
    "teamB = 'Michigan'\n",
    "matchup = games[\n",
    "    ((games['home_team'] == teamA) & (games['away_team'] == teamB)) |\n",
    "    ((games['home_team'] == teamB) & (games['away_team'] == teamA))\n",
    "]\n",
    "print(matchup[['start_date', 'season', 'home_team', 'away_team', 'home_points', 'away_points']])\n"
   ]
  },
  {
   "cell_type": "code",
   "execution_count": null,
   "id": "193fb8d3-ee60-4e6a-b308-ff2944d5c866",
   "metadata": {},
   "outputs": [],
   "source": []
  }
 ],
 "metadata": {
  "kernelspec": {
   "display_name": "Python 3 (ipykernel)",
   "language": "python",
   "name": "python3"
  },
  "language_info": {
   "codemirror_mode": {
    "name": "ipython",
    "version": 3
   },
   "file_extension": ".py",
   "mimetype": "text/x-python",
   "name": "python",
   "nbconvert_exporter": "python",
   "pygments_lexer": "ipython3",
   "version": "3.12.7"
  }
 },
 "nbformat": 4,
 "nbformat_minor": 5
}
